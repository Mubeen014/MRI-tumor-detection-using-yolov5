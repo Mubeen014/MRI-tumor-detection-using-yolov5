{
 "cells": [
  {
   "cell_type": "code",
   "execution_count": null,
   "metadata": {},
   "outputs": [],
   "source": [
    "import os\n",
    "import shutil\n",
    "import torch"
   ]
  },
  {
   "cell_type": "code",
   "execution_count": null,
   "metadata": {},
   "outputs": [],
   "source": [
    "import os\n",
    "import shutil\n",
    "\n",
    "# Define paths\n",
    "base_path = ''\n",
    "train_path = os.path.join(base_path, 'Train')\n",
    "val_path = os.path.join(base_path, 'Val')\n",
    "output_train_images = os.path.join(base_path, 'images/train')\n",
    "output_train_labels = os.path.join(base_path, 'labels/train')\n",
    "output_val_images = os.path.join(base_path, 'images/val')\n",
    "output_val_labels = os.path.join(base_path, 'labels/val')\n",
    "\n",
    "# Create directories if they don't exist\n",
    "os.makedirs(output_train_images, exist_ok=True)\n",
    "os.makedirs(output_train_labels, exist_ok=True)\n",
    "os.makedirs(output_val_images, exist_ok=True)\n",
    "os.makedirs(output_val_labels, exist_ok=True)\n",
    "\n",
    "def move_files(src, dest_images, dest_labels):\n",
    "    for category in ['Glioma', 'Meningioma', 'No Tumor', 'Pituitary']:\n",
    "        images_path = os.path.join(src, category, 'images')\n",
    "        labels_path = os.path.join(src, category, 'labels')\n",
    "\n",
    "        for file_name in os.listdir(images_path):\n",
    "            shutil.copy(os.path.join(images_path, file_name), os.path.join(dest_images, file_name))\n",
    "\n",
    "        for file_name in os.listdir(labels_path):\n",
    "            shutil.copy(os.path.join(labels_path, file_name), os.path.join(dest_labels, file_name))\n",
    "\n",
    "# Move training files\n",
    "move_files(train_path, output_train_images, output_train_labels)\n",
    "\n",
    "# Move validation files\n",
    "move_files(val_path, output_val_images, output_val_labels)"
   ]
  },
  {
   "cell_type": "code",
   "execution_count": null,
   "metadata": {},
   "outputs": [],
   "source": [
    "yaml_path = '/content/brain_tumor_dataset.yaml'\n",
    "\n",
    "yaml_content = \"\"\"\n",
    "train: /content/images/train\n",
    "val: /content/images/val\n",
    "\n",
    "nc: 4\n",
    "names: ['Glioma', 'Meningioma', 'No Tumor', 'Pituitary']\n",
    "\"\"\"\n",
    "\n",
    "with open(yaml_path, 'w') as file:\n",
    "    file.write(yaml_content)\n",
    "\n",
    "print(f\"YAML file created at: {yaml_path}\")\n"
   ]
  },
  {
   "cell_type": "code",
   "execution_count": null,
   "metadata": {},
   "outputs": [],
   "source": [
    "device = 'cuda' if torch.cuda.is_available() else 'cpu'\n",
    "device"
   ]
  }
 ],
 "metadata": {
  "language_info": {
   "name": "python"
  }
 },
 "nbformat": 4,
 "nbformat_minor": 2
}
